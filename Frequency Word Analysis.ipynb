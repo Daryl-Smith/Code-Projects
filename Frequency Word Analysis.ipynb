{
 "cells": [
  {
   "cell_type": "code",
   "execution_count": 1,
   "id": "a37042af-d958-4a95-a3d9-ccc40f81d305",
   "metadata": {
    "tags": []
   },
   "outputs": [
    {
     "name": "stdout",
     "output_type": "stream",
     "text": [
      "Total occurrences of 'SNP': 3\n",
      "\n",
      "Contexts of appearances:\n",
      "...absence of an agreement the SNP would use the next UK...\n",
      "...in the UK. However the SNP and Greens form a pro-independence...\n",
      "...the Scottish government had planned. SNP ministers will accept the judgement...\n"
     ]
    }
   ],
   "source": [
    "import requests\n",
    "from bs4 import BeautifulSoup\n",
    "from collections import Counter\n",
    "\n",
    "# ==============================\n",
    "# Paste the URL of the article here\n",
    "article_url = \"https://www.bbc.co.uk/news/uk-scotland-scotland-politics-63727562\"\n",
    "# ==============================\n",
    "\n",
    "# ==============================\n",
    "# Enter the word you are looking for here\n",
    "search_word = \"SNP\"\n",
    "# ==============================\n",
    "\n",
    "def fetch_article_content(url):\n",
    "    try:\n",
    "        response = requests.get(url)\n",
    "        response.raise_for_status()  # Check for http errors\n",
    "        return response.text\n",
    "    except requests.RequestException as e:\n",
    "        print(f\"Error fetching the article: {e}\")\n",
    "        return None\n",
    "\n",
    "def extract_text_from_html(html_content):\n",
    "    soup = BeautifulSoup(html_content, 'html.parser')\n",
    "    text = soup.get_text(separator=' ', strip=True)\n",
    "    return text\n",
    "\n",
    "def find_word_occurrences(text, word):\n",
    "    words = text.split()\n",
    "    word_count = Counter(words)\n",
    "    word_frequency = word_count.get(word, 0)\n",
    "    \n",
    "    # Find contexts\n",
    "    contexts = []\n",
    "    words = text.split()\n",
    "    for i, w in enumerate(words):\n",
    "        if w.lower() == word.lower():\n",
    "            # Extract context: 5 words before and after the word\n",
    "            context = ' '.join(words[max(i-5, 0):i+6])\n",
    "            contexts.append(context)\n",
    "    \n",
    "    return word_frequency, contexts\n",
    "\n",
    "def main(url, word):\n",
    "    html_content = fetch_article_content(url)\n",
    "    if html_content:\n",
    "        text = extract_text_from_html(html_content)\n",
    "        frequency, contexts = find_word_occurrences(text, word)\n",
    "        \n",
    "        print(f\"Total occurrences of '{word}': {frequency}\")\n",
    "        if contexts:\n",
    "            print(\"\\nContexts of appearances:\")\n",
    "            for context in contexts:\n",
    "                print(f\"...{context}...\")\n",
    "        else:\n",
    "            print(f\"No occurrences of '{word}' found.\")\n",
    "    else:\n",
    "        print(\"Failed to fetch or process the article.\")\n",
    "\n",
    "if __name__ == \"__main__\":\n",
    "    main(article_url, search_word)"
   ]
  },
  {
   "cell_type": "code",
   "execution_count": null,
   "id": "4d4ae68f-5c65-44a0-a20d-81583eeaa75f",
   "metadata": {},
   "outputs": [],
   "source": []
  }
 ],
 "metadata": {
  "kernelspec": {
   "display_name": "Python 3 (ipykernel)",
   "language": "python",
   "name": "python3"
  },
  "language_info": {
   "codemirror_mode": {
    "name": "ipython",
    "version": 3
   },
   "file_extension": ".py",
   "mimetype": "text/x-python",
   "name": "python",
   "nbconvert_exporter": "python",
   "pygments_lexer": "ipython3",
   "version": "3.11.5"
  }
 },
 "nbformat": 4,
 "nbformat_minor": 5
}
